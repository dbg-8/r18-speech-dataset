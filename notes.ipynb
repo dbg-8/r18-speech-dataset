{
 "cells": [
  {
   "cell_type": "code",
   "execution_count": 1,
   "metadata": {},
   "outputs": [],
   "source": [
    "from pathlib import Path\n",
    "from IPython.display import Audio\n",
    "\n",
    "sample = Path(\n",
    "    'samples/dt01335-95baa5807ed1e7e35260ce3b8a1a4a2e-55-001-vad.wav'\n",
    ")\n"
   ]
  },
  {
   "cell_type": "code",
   "execution_count": 2,
   "metadata": {},
   "outputs": [],
   "source": [
    "import librosa as R\n",
    "import soundfile as sf"
   ]
  },
  {
   "cell_type": "code",
   "execution_count": 4,
   "metadata": {},
   "outputs": [
    {
     "data": {
      "text/plain": [
       "((59400,), 16000)"
      ]
     },
     "execution_count": 4,
     "metadata": {},
     "output_type": "execute_result"
    }
   ],
   "source": [
    "wav, sr = R.load(sample, sr=None)\n",
    "wav.shape, sr"
   ]
  },
  {
   "cell_type": "code",
   "execution_count": 5,
   "metadata": {},
   "outputs": [
    {
     "data": {
      "text/plain": [
       "(-0.34231567, 0.2192688)"
      ]
     },
     "execution_count": 5,
     "metadata": {},
     "output_type": "execute_result"
    }
   ],
   "source": [
    "wav.min(), wav.max()"
   ]
  },
  {
   "cell_type": "code",
   "execution_count": 9,
   "metadata": {},
   "outputs": [],
   "source": [
    "sf.write('sample.wav', wav[:16000*3], sr, format='WAV', subtype='PCM_16')"
   ]
  },
  {
   "cell_type": "code",
   "execution_count": 3,
   "metadata": {},
   "outputs": [
    {
     "data": {
      "text/html": [
       "<div>\n",
       "<style scoped>\n",
       "    .dataframe tbody tr th:only-of-type {\n",
       "        vertical-align: middle;\n",
       "    }\n",
       "\n",
       "    .dataframe tbody tr th {\n",
       "        vertical-align: top;\n",
       "    }\n",
       "\n",
       "    .dataframe thead th {\n",
       "        text-align: right;\n",
       "    }\n",
       "</style>\n",
       "<table border=\"1\" class=\"dataframe\">\n",
       "  <thead>\n",
       "    <tr style=\"text-align: right;\">\n",
       "      <th></th>\n",
       "      <th>fpath</th>\n",
       "      <th>duration</th>\n",
       "    </tr>\n",
       "  </thead>\n",
       "  <tbody>\n",
       "    <tr>\n",
       "      <th>0</th>\n",
       "      <td>explicit-audios/xiaomi-vaded-confuse/mi00353-a...</td>\n",
       "      <td>4.168125</td>\n",
       "    </tr>\n",
       "    <tr>\n",
       "      <th>1</th>\n",
       "      <td>explicit-audios/xiaomi-vaded-confuse/mi00334-7...</td>\n",
       "      <td>0.590625</td>\n",
       "    </tr>\n",
       "    <tr>\n",
       "      <th>2</th>\n",
       "      <td>explicit-audios/xiaomi-vaded-confuse/mi00406-6...</td>\n",
       "      <td>1.046250</td>\n",
       "    </tr>\n",
       "    <tr>\n",
       "      <th>3</th>\n",
       "      <td>explicit-audios/xiaomi-vaded-confuse/mi00007-2...</td>\n",
       "      <td>63.770625</td>\n",
       "    </tr>\n",
       "    <tr>\n",
       "      <th>4</th>\n",
       "      <td>explicit-audios/xiaomi-vaded-confuse/mi00130-3...</td>\n",
       "      <td>0.725625</td>\n",
       "    </tr>\n",
       "  </tbody>\n",
       "</table>\n",
       "</div>"
      ],
      "text/plain": [
       "                                               fpath   duration\n",
       "0  explicit-audios/xiaomi-vaded-confuse/mi00353-a...   4.168125\n",
       "1  explicit-audios/xiaomi-vaded-confuse/mi00334-7...   0.590625\n",
       "2  explicit-audios/xiaomi-vaded-confuse/mi00406-6...   1.046250\n",
       "3  explicit-audios/xiaomi-vaded-confuse/mi00007-2...  63.770625\n",
       "4  explicit-audios/xiaomi-vaded-confuse/mi00130-3...   0.725625"
      ]
     },
     "execution_count": 3,
     "metadata": {},
     "output_type": "execute_result"
    }
   ],
   "source": [
    "import pandas as pd\n",
    "dus = Path('explicit-audios-duration.csv')\n",
    "\n",
    "dataset = pd.read_csv(dus, header=None, names=['fpath', 'duration'])\n",
    "dataset.head()"
   ]
  },
  {
   "cell_type": "code",
   "execution_count": 16,
   "metadata": {},
   "outputs": [
    {
     "data": {
      "text/plain": [
       "(23402, 2)"
      ]
     },
     "execution_count": 16,
     "metadata": {},
     "output_type": "execute_result"
    }
   ],
   "source": [
    "longs = dataset[dataset.duration>4]\n",
    "longs.shape"
   ]
  },
  {
   "cell_type": "code",
   "execution_count": 5,
   "metadata": {},
   "outputs": [
    {
     "data": {
      "text/html": [
       "<div>\n",
       "<style scoped>\n",
       "    .dataframe tbody tr th:only-of-type {\n",
       "        vertical-align: middle;\n",
       "    }\n",
       "\n",
       "    .dataframe tbody tr th {\n",
       "        vertical-align: top;\n",
       "    }\n",
       "\n",
       "    .dataframe thead th {\n",
       "        text-align: right;\n",
       "    }\n",
       "</style>\n",
       "<table border=\"1\" class=\"dataframe\">\n",
       "  <thead>\n",
       "    <tr style=\"text-align: right;\">\n",
       "      <th></th>\n",
       "      <th>fpath</th>\n",
       "      <th>duration</th>\n",
       "    </tr>\n",
       "  </thead>\n",
       "  <tbody>\n",
       "    <tr>\n",
       "      <th>3</th>\n",
       "      <td>explicit-audios/xiaomi-vaded-confuse/mi00007-2...</td>\n",
       "      <td>63.770625</td>\n",
       "    </tr>\n",
       "    <tr>\n",
       "      <th>6</th>\n",
       "      <td>explicit-audios/xiaomi-vaded-confuse/mi00037-9...</td>\n",
       "      <td>10.479375</td>\n",
       "    </tr>\n",
       "    <tr>\n",
       "      <th>11</th>\n",
       "      <td>explicit-audios/xiaomi-vaded-confuse/mi00226-e...</td>\n",
       "      <td>8.235000</td>\n",
       "    </tr>\n",
       "    <tr>\n",
       "      <th>18</th>\n",
       "      <td>explicit-audios/xiaomi-vaded-confuse/mi00145-a...</td>\n",
       "      <td>88.678125</td>\n",
       "    </tr>\n",
       "    <tr>\n",
       "      <th>21</th>\n",
       "      <td>explicit-audios/xiaomi-vaded-confuse/mi00346-c...</td>\n",
       "      <td>41.833125</td>\n",
       "    </tr>\n",
       "  </tbody>\n",
       "</table>\n",
       "</div>"
      ],
      "text/plain": [
       "                                                fpath   duration\n",
       "3   explicit-audios/xiaomi-vaded-confuse/mi00007-2...  63.770625\n",
       "6   explicit-audios/xiaomi-vaded-confuse/mi00037-9...  10.479375\n",
       "11  explicit-audios/xiaomi-vaded-confuse/mi00226-e...   8.235000\n",
       "18  explicit-audios/xiaomi-vaded-confuse/mi00145-a...  88.678125\n",
       "21  explicit-audios/xiaomi-vaded-confuse/mi00346-c...  41.833125"
      ]
     },
     "execution_count": 5,
     "metadata": {},
     "output_type": "execute_result"
    }
   ],
   "source": [
    "longs.head()"
   ]
  },
  {
   "cell_type": "code",
   "execution_count": 6,
   "metadata": {},
   "outputs": [],
   "source": [
    "from tqdm.auto import tqdm"
   ]
  },
  {
   "cell_type": "code",
   "execution_count": 17,
   "metadata": {},
   "outputs": [
    {
     "data": {
      "application/vnd.jupyter.widget-view+json": {
       "model_id": "33612c3177ef42cd956da433c64d2e9d",
       "version_major": 2,
       "version_minor": 0
      },
      "text/plain": [
       "0it [00:00, ?it/s]"
      ]
     },
     "metadata": {},
     "output_type": "display_data"
    }
   ],
   "source": [
    "to = Path('explicit-audios-long')\n",
    "\n",
    "for row in tqdm(longs.itertuples()):\n",
    "    fpath = Path(row.fpath)\n",
    "    if fpath.exists():\n",
    "        topath = to / fpath\n",
    "        topath.parent.mkdir(exist_ok=True, parents=True)\n",
    "        fpath.rename(topath)\n",
    "    "
   ]
  },
  {
   "cell_type": "code",
   "execution_count": 18,
   "metadata": {},
   "outputs": [],
   "source": [
    "def split_wav(wav, sr, du:float=3, step:float =2.5):\n",
    "    du = int(sr*du)\n",
    "    step = int(sr*step)\n",
    "    wavs = []\n",
    "    for i in range(0, len(wav), step):\n",
    "        wavs.append(wav[i:i+du])\n",
    "    if wavs[-1].shape[0] < du:\n",
    "        wavs.pop()\n",
    "        wavs.append(wav[-du:])\n",
    "    return wavs\n"
   ]
  },
  {
   "cell_type": "code",
   "execution_count": 19,
   "metadata": {},
   "outputs": [
    {
     "data": {
      "application/vnd.jupyter.widget-view+json": {
       "model_id": "0770042c5ee546c6b1d7aa45f5199c39",
       "version_major": 2,
       "version_minor": 0
      },
      "text/plain": [
       "  0%|          | 0/23402 [00:00<?, ?it/s]"
      ]
     },
     "metadata": {},
     "output_type": "display_data"
    }
   ],
   "source": [
    "tox = Path('explicit-audios-long-splitted')\n",
    "wavs = list(to.rglob('*.wav'))\n",
    "\n",
    "for wpath in tqdm(wavs):\n",
    "    wav, sr = R.load(wpath, sr=None)\n",
    "    if Path(tox, wpath.with_name(f'{wpath.stem}-0.wav')).exists():\n",
    "        continue\n",
    "    wavs = split_wav(wav, sr, du=3, step=2.5)\n",
    "    for i, subwav in enumerate(wavs):\n",
    "        fpath = tox / wpath.with_name(f'{wpath.stem}-{i}.wav')\n",
    "        fpath.parent.mkdir(parents=True, exist_ok = True)\n",
    "        sf.write(fpath, subwav, sr, format='WAV', subtype='PCM_16')"
   ]
  },
  {
   "cell_type": "code",
   "execution_count": null,
   "metadata": {},
   "outputs": [],
   "source": []
  },
  {
   "cell_type": "code",
   "execution_count": null,
   "metadata": {},
   "outputs": [],
   "source": [
    "\n",
    "    "
   ]
  }
 ],
 "metadata": {
  "interpreter": {
   "hash": "12807c924270720a2c03a8ef75bbf9075c39779caa5d8608de3a4eb7a87a5fc9"
  },
  "kernelspec": {
   "display_name": "Python 3.9.10 ('ba')",
   "language": "python",
   "name": "python3"
  },
  "language_info": {
   "codemirror_mode": {
    "name": "ipython",
    "version": 3
   },
   "file_extension": ".py",
   "mimetype": "text/x-python",
   "name": "python",
   "nbconvert_exporter": "python",
   "pygments_lexer": "ipython3",
   "version": "3.9.10"
  },
  "orig_nbformat": 4
 },
 "nbformat": 4,
 "nbformat_minor": 2
}
